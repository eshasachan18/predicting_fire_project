{
 "cells": [
  {
   "cell_type": "code",
   "execution_count": 18,
   "metadata": {},
   "outputs": [],
   "source": [
    "#importing various liabrary\n",
    "import pandas as pd\n",
    "import numpy as np\n",
    "import matplotlib.pyplot as plt\n",
    "# We want our plots to appear in the notebook\n",
    "%matplotlib inline "
   ]
  },
  {
   "cell_type": "code",
   "execution_count": 4,
   "metadata": {},
   "outputs": [],
   "source": [
    "#loading data\n",
    "data=pd.read_csv(\"data.csv\")"
   ]
  },
  {
   "cell_type": "code",
   "execution_count": 5,
   "metadata": {},
   "outputs": [
    {
     "data": {
      "text/html": [
       "<div>\n",
       "<style scoped>\n",
       "    .dataframe tbody tr th:only-of-type {\n",
       "        vertical-align: middle;\n",
       "    }\n",
       "\n",
       "    .dataframe tbody tr th {\n",
       "        vertical-align: top;\n",
       "    }\n",
       "\n",
       "    .dataframe thead th {\n",
       "        text-align: right;\n",
       "    }\n",
       "</style>\n",
       "<table border=\"1\" class=\"dataframe\">\n",
       "  <thead>\n",
       "    <tr style=\"text-align: right;\">\n",
       "      <th></th>\n",
       "      <th>Time(Sec)</th>\n",
       "      <th>Unnamed: 1</th>\n",
       "      <th>Node Number</th>\n",
       "      <th>Temperature</th>\n",
       "      <th>Humidity</th>\n",
       "      <th>CO</th>\n",
       "      <th>CO2</th>\n",
       "      <th>State of the system</th>\n",
       "    </tr>\n",
       "  </thead>\n",
       "  <tbody>\n",
       "    <tr>\n",
       "      <th>0</th>\n",
       "      <td>1</td>\n",
       "      <td>2019-12-26 15:20:09.849088</td>\n",
       "      <td>1</td>\n",
       "      <td>13.77</td>\n",
       "      <td>59.11</td>\n",
       "      <td>3.76</td>\n",
       "      <td>838.42</td>\n",
       "      <td>1</td>\n",
       "    </tr>\n",
       "    <tr>\n",
       "      <th>1</th>\n",
       "      <td>2</td>\n",
       "      <td>2019-12-26 15:20:12.383318</td>\n",
       "      <td>1</td>\n",
       "      <td>13.75</td>\n",
       "      <td>59.54</td>\n",
       "      <td>3.76</td>\n",
       "      <td>833.53</td>\n",
       "      <td>1</td>\n",
       "    </tr>\n",
       "    <tr>\n",
       "      <th>2</th>\n",
       "      <td>3</td>\n",
       "      <td>2019-12-26 15:20:14.652292</td>\n",
       "      <td>1</td>\n",
       "      <td>13.70</td>\n",
       "      <td>59.80</td>\n",
       "      <td>3.68</td>\n",
       "      <td>823.75</td>\n",
       "      <td>1</td>\n",
       "    </tr>\n",
       "    <tr>\n",
       "      <th>3</th>\n",
       "      <td>4</td>\n",
       "      <td>2019-12-26 15:20:16.819458</td>\n",
       "      <td>1</td>\n",
       "      <td>13.63</td>\n",
       "      <td>59.46</td>\n",
       "      <td>3.68</td>\n",
       "      <td>828.64</td>\n",
       "      <td>1</td>\n",
       "    </tr>\n",
       "    <tr>\n",
       "      <th>4</th>\n",
       "      <td>5</td>\n",
       "      <td>2019-12-26 15:20:21.815297</td>\n",
       "      <td>1</td>\n",
       "      <td>13.56</td>\n",
       "      <td>58.98</td>\n",
       "      <td>3.59</td>\n",
       "      <td>828.64</td>\n",
       "      <td>1</td>\n",
       "    </tr>\n",
       "  </tbody>\n",
       "</table>\n",
       "</div>"
      ],
      "text/plain": [
       "   Time(Sec)                  Unnamed: 1  Node Number  Temperature  Humidity  \\\n",
       "0          1  2019-12-26 15:20:09.849088            1        13.77     59.11   \n",
       "1          2  2019-12-26 15:20:12.383318            1        13.75     59.54   \n",
       "2          3  2019-12-26 15:20:14.652292            1        13.70     59.80   \n",
       "3          4  2019-12-26 15:20:16.819458            1        13.63     59.46   \n",
       "4          5  2019-12-26 15:20:21.815297            1        13.56     58.98   \n",
       "\n",
       "     CO     CO2  State of the system  \n",
       "0  3.76  838.42                    1  \n",
       "1  3.76  833.53                    1  \n",
       "2  3.68  823.75                    1  \n",
       "3  3.68  828.64                    1  \n",
       "4  3.59  828.64                    1  "
      ]
     },
     "execution_count": 5,
     "metadata": {},
     "output_type": "execute_result"
    }
   ],
   "source": [
    "# Let's check the top 5 rows of our dataframe\n",
    "data.head()"
   ]
  },
  {
   "cell_type": "code",
   "execution_count": 36,
   "metadata": {},
   "outputs": [
    {
     "data": {
      "text/plain": [
       "1    51\n",
       "2    22\n",
       "3     7\n",
       "Name: State of the system, dtype: int64"
      ]
     },
     "execution_count": 36,
     "metadata": {},
     "output_type": "execute_result"
    }
   ],
   "source": [
    "data[\"State of the system\"].value_counts()"
   ]
  },
  {
   "cell_type": "code",
   "execution_count": 37,
   "metadata": {},
   "outputs": [
    {
     "data": {
      "image/png": "[encoded data removed]",
      "text/plain": [
       "<Figure size 432x288 with 1 Axes>"
      ]
     },
     "metadata": {
      "needs_background": "light"
     },
     "output_type": "display_data"
    }
   ],
   "source": [
    "data[\"State of the system\"].value_counts().plot(kind=\"bar\", color=[\"salmon\", \"lightblue\",\"yellow\"]);"
   ]
  },
  {
   "cell_type": "code",
   "execution_count": 35,
   "metadata": {},
   "outputs": [
    {
     "data": {
      "text/plain": [
       "Time(Sec)              0\n",
       "Node Number            0\n",
       "Temperature            0\n",
       "Humidity               0\n",
       "CO                     0\n",
       "CO2                    0\n",
       "State of the system    0\n",
       "dtype: int64"
      ]
     },
     "execution_count": 35,
     "metadata": {},
     "output_type": "execute_result"
    }
   ],
   "source": [
    "data.isna().sum()\n",
    "#dispalying the number of missing values"
   ]
  },
  {
   "cell_type": "code",
   "execution_count": 7,
   "metadata": {},
   "outputs": [
    {
     "name": "stdout",
     "output_type": "stream",
     "text": [
      "<class 'pandas.core.frame.DataFrame'>\n",
      "RangeIndex: 80 entries, 0 to 79\n",
      "Data columns (total 8 columns):\n",
      " #   Column               Non-Null Count  Dtype  \n",
      "---  ------               --------------  -----  \n",
      " 0   Time(Sec)            80 non-null     int64  \n",
      " 1   Unnamed: 1           79 non-null     object \n",
      " 2   Node Number          80 non-null     int64  \n",
      " 3   Temperature          80 non-null     float64\n",
      " 4   Humidity             80 non-null     float64\n",
      " 5   CO                   80 non-null     float64\n",
      " 6   CO2                  80 non-null     float64\n",
      " 7   State of the system  80 non-null     int64  \n",
      "dtypes: float64(4), int64(3), object(1)\n",
      "memory usage: 5.1+ KB\n"
     ]
    }
   ],
   "source": [
    "data.info()#displaying datatype of all fields"
   ]
  },
  {
   "cell_type": "code",
   "execution_count": 8,
   "metadata": {},
   "outputs": [],
   "source": [
    "data=data.drop(\"Unnamed: 1\",axis=1)"
   ]
  },
  {
   "cell_type": "code",
   "execution_count": 9,
   "metadata": {},
   "outputs": [],
   "source": [
    "x=data.drop(\"State of the system\",axis=1)\n",
    "y=data[\"State of the system\"]"
   ]
  },
  {
   "cell_type": "code",
   "execution_count": 10,
   "metadata": {},
   "outputs": [],
   "source": [
    "from sklearn.model_selection import train_test_split"
   ]
  },
  {
   "cell_type": "code",
   "execution_count": 11,
   "metadata": {},
   "outputs": [],
   "source": [
    "x_train,x_test,y_train,y_test=train_test_split(x,y)"
   ]
  },
  {
   "cell_type": "code",
   "execution_count": 46,
   "metadata": {},
   "outputs": [
    {
     "name": "stdout",
     "output_type": "stream",
     "text": [
      "KNN-score is-\n"
     ]
    },
    {
     "data": {
      "text/plain": [
       "80.0"
      ]
     },
     "execution_count": 46,
     "metadata": {},
     "output_type": "execute_result"
    }
   ],
   "source": [
    "#working with KNeighborsClassifier\n",
    "from sklearn.neighbors import KNeighborsClassifier \n",
    "np.random.seed(42)\n",
    "knn = KNeighborsClassifier(n_neighbors = 7).fit(x_train, y_train)\n",
    "knn_predictions=knn.predict(x_test)\n",
    "print(\"KNN-score is-\")\n",
    "knn.score(x_test,y_test)*100"
   ]
  },
  {
   "cell_type": "code",
   "execution_count": 47,
   "metadata": {},
   "outputs": [
    {
     "data": {
      "text/plain": [
       "95.0"
      ]
     },
     "execution_count": 47,
     "metadata": {},
     "output_type": "execute_result"
    }
   ],
   "source": [
    "#hyperparameter tuning for better result\n",
    "np.random.seed(42)\n",
    "from sklearn.model_selection import GridSearchCV\n",
    "leaf_size = list(range(1,50,2))\n",
    "n_neighbors = list(range(1,30,3))\n",
    "p=[1,2]\n",
    "knn_2 = KNeighborsClassifier()\n",
    "\n",
    "#Convert to dictionary\n",
    "hyperparameters = dict(leaf_size=leaf_size, n_neighbors=n_neighbors, p=p)\n",
    "clf = GridSearchCV(knn_2, hyperparameters, cv=5)\n",
    "best_model = clf.fit(x_train,y_train)\n",
    "clf.score(x_train,y_train)*100\n"
   ]
  },
  {
   "cell_type": "code",
   "execution_count": 20,
   "metadata": {},
   "outputs": [
    {
     "data": {
      "text/plain": [
       "{'leaf_size': 1, 'n_neighbors': 4, 'p': 1}"
      ]
     },
     "execution_count": 20,
     "metadata": {},
     "output_type": "execute_result"
    }
   ],
   "source": [
    "clf.best_params_"
   ]
  },
  {
   "cell_type": "code",
   "execution_count": 49,
   "metadata": {},
   "outputs": [
    {
     "name": "stdout",
     "output_type": "stream",
     "text": [
      "gnb score is\n"
     ]
    },
    {
     "data": {
      "text/plain": [
       "90.0"
      ]
     },
     "execution_count": 49,
     "metadata": {},
     "output_type": "execute_result"
    }
   ],
   "source": [
    "#working with GaussianNB\n",
    "from sklearn.naive_bayes import GaussianNB\n",
    "np.random.seed(42)\n",
    "gnb = GaussianNB().fit(x_train, y_train) \n",
    "gnb_predictions = gnb.predict(x_test) \n",
    "print(\"gnb score is\")\n",
    "gnb.score(x_test,y_test)*100"
   ]
  },
  {
   "cell_type": "code",
   "execution_count": 50,
   "metadata": {},
   "outputs": [
    {
     "name": "stdout",
     "output_type": "stream",
     "text": [
      "Fitting 5 folds for each of 100 candidates, totalling 500 fits\n"
     ]
    },
    {
     "name": "stderr",
     "output_type": "stream",
     "text": [
      "E:\\ML-projects\\employee-attrition-rate\\env\\lib\\site-packages\\sklearn\\model_selection\\_split.py:665: UserWarning: The least populated class in y has only 1 members, which is less than n_splits=5.\n",
      "  warnings.warn((\"The least populated class in y has only %d\"\n",
      "[Parallel(n_jobs=1)]: Using backend SequentialBackend with 1 concurrent workers.\n",
      "[Parallel(n_jobs=1)]: Done 500 out of 500 | elapsed:    2.7s finished\n"
     ]
    },
    {
     "data": {
      "text/plain": [
       "70.0"
      ]
     },
     "execution_count": 50,
     "metadata": {},
     "output_type": "execute_result"
    }
   ],
   "source": [
    "#hyperparameter tuning for better result\n",
    "np.random.seed(42)\n",
    "\n",
    "nb_classifier = GaussianNB()\n",
    "\n",
    "params_NB = {'var_smoothing': np.logspace(0,-9, num=100)}\n",
    "\n",
    "gs_NB = GridSearchCV(estimator=nb_classifier, \n",
    "                     param_grid=params_NB, \n",
    "                     cv=5,\n",
    "                     verbose=1, \n",
    "                     scoring='accuracy')\n",
    "\n",
    "gs_NB.fit(x_test,y_test)\n",
    "gs_NB.score(x_train,y_train)*100\n"
   ]
  },
  {
   "cell_type": "code",
   "execution_count": 19,
   "metadata": {},
   "outputs": [
    {
     "data": {
      "text/plain": [
       "{'var_smoothing': 0.657933224657568}"
      ]
     },
     "execution_count": 19,
     "metadata": {},
     "output_type": "execute_result"
    }
   ],
   "source": [
    "gs_NB.best_params_"
   ]
  },
  {
   "cell_type": "code",
   "execution_count": 24,
   "metadata": {},
   "outputs": [
    {
     "data": {
      "text/plain": [
       "KNeighborsClassifier(algorithm='auto', leaf_size=1, metric='minkowski',\n",
       "                     metric_params=None, n_jobs=None, n_neighbors=4, p=1,\n",
       "                     weights='uniform')"
      ]
     },
     "execution_count": 24,
     "metadata": {},
     "output_type": "execute_result"
    }
   ],
   "source": [
    "#defining  models with the best parameters\n",
    "final_gs_NB=GaussianNB(var_smoothing= 0.657933224657568)\n",
    "final_KNN=KNeighborsClassifier(leaf_size= 1, n_neighbors= 4, p= 1)\n",
    "final_gs_NB.fit(x_train,y_train)\n",
    "final_KNN.fit(x_train,y_train)\n"
   ]
  },
  {
   "cell_type": "code",
   "execution_count": 38,
   "metadata": {},
   "outputs": [],
   "source": [
    "# Import confusion_matrix and classification_report from sklearn's metrics module\n",
    "from sklearn.metrics import confusion_matrix, classification_report\n",
    "\n",
    "# Import precision_score, recall_score and f1_score from sklearn's metrics module\n",
    "from sklearn.metrics import precision_score, recall_score, f1_score\n"
   ]
  },
  {
   "cell_type": "code",
   "execution_count": 26,
   "metadata": {},
   "outputs": [
    {
     "name": "stdout",
     "output_type": "stream",
     "text": [
      "              precision    recall  f1-score   support\n",
      "\n",
      "           1       0.87      1.00      0.93        13\n",
      "           2       1.00      0.50      0.67         6\n",
      "           3       0.50      1.00      0.67         1\n",
      "\n",
      "    accuracy                           0.85        20\n",
      "   macro avg       0.79      0.83      0.75        20\n",
      "weighted avg       0.89      0.85      0.84        20\n",
      "\n"
     ]
    }
   ],
   "source": [
    "# evaluating knn model\n",
    "y_preds = final_KNN.predict(x_test)\n",
    "confusion_matrix(y_test, y_preds)\n",
    "print(classification_report(y_test, y_preds))"
   ]
  },
  {
   "cell_type": "code",
   "execution_count": 31,
   "metadata": {},
   "outputs": [
    {
     "data": {
      "text/plain": [
       "0.5588235294117648"
      ]
     },
     "execution_count": 31,
     "metadata": {},
     "output_type": "execute_result"
    }
   ],
   "source": [
    "from sklearn.metrics import r2_score\n",
    "r2_score(y_test,y_preds)"
   ]
  },
  {
   "cell_type": "code",
   "execution_count": 57,
   "metadata": {},
   "outputs": [
    {
     "name": "stdout",
     "output_type": "stream",
     "text": [
      "              precision    recall  f1-score   support\n",
      "\n",
      "           1       0.81      1.00      0.90        13\n",
      "           2       1.00      0.50      0.67         6\n",
      "           3       1.00      1.00      1.00         1\n",
      "\n",
      "    accuracy                           0.85        20\n",
      "   macro avg       0.94      0.83      0.85        20\n",
      "weighted avg       0.88      0.85      0.83        20\n",
      "\n"
     ]
    }
   ],
   "source": [
    "#evaluating Naive Bayers model\n",
    "y_preds2=final_gs_NB.predict(x_test)\n",
    "print(classification_report(y_test,y_preds2))"
   ]
  },
  {
   "cell_type": "code",
   "execution_count": 60,
   "metadata": {},
   "outputs": [
    {
     "data": {
      "text/plain": [
       "0.5588235294117648"
      ]
     },
     "execution_count": 60,
     "metadata": {},
     "output_type": "execute_result"
    }
   ],
   "source": [
    "r2_score(y_test,y_preds2)"
   ]
  },
  {
   "cell_type": "code",
   "execution_count": null,
   "metadata": {},
   "outputs": [],
   "source": []
  }
 ],
 "metadata": {
  "kernelspec": {
   "display_name": "Python 3",
   "language": "python",
   "name": "python3"
  },
  "language_info": {
   "codemirror_mode": {
    "name": "ipython",
    "version": 3
   },
   "file_extension": ".py",
   "mimetype": "text/x-python",
   "name": "python",
   "nbconvert_exporter": "python",
   "pygments_lexer": "ipython3",
   "version": "3.8.3"
  }
 },
 "nbformat": 4,
 "nbformat_minor": 4
}
